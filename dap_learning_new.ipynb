{
 "cells": [
  {
   "cell_type": "markdown",
   "metadata": {},
   "source": [
    "![alt text](https://www.mathworks.com/content/mathworks/www/en/discovery/convolutional-neural-network/jcr:content/mainParsys/image_copy.adapt.full.high.jpg/1497876372993.jpg)"
   ]
  },
  {
   "cell_type": "markdown",
   "metadata": {},
   "source": [
    "![alt text](https://leonardoaraujosantos.gitbooks.io/artificial-inteligence/content/more_images/Convolution_schematic.gif) "
   ]
  },
  {
   "cell_type": "markdown",
   "metadata": {},
   "source": []
  },
  {
   "cell_type": "markdown",
   "metadata": {},
   "source": [
    "## Lets apply this to peak sequence from transcription factors WRKY45 and WRKY18"
   ]
  },
  {
   "cell_type": "markdown",
   "metadata": {},
   "source": [
    "The expected motifs have been indiependently verified. See the [DAP-seq website](http://neomorph.salk.edu/dap_web/pages/browse_table_aj.php) and also Figure 1 from [this paper](https://www.pnas.org/content/111/6/2367)"
   ]
  },
  {
   "cell_type": "markdown",
   "metadata": {},
   "source": [
    "#### The WRKY45 motif (from DAP-seq site) and it's reverse complement\n",
    "\n",
    "![WRKY45 motif](http://neomorph.salk.edu/dap_web/pages/dap_data_v4/motifs/WRKY_tnt/WRKY45_col_a/meme_out/logo1.png)![WRKY45 motif](http://neomorph.salk.edu/dap_web/pages/dap_data_v4/motifs/WRKY_tnt/WRKY45_col_a/meme_out/logo_rc1.png)\n",
    "\n",
    "#### The WRKY18 motif (from DAP-seq site) and it's reverse complement\n",
    "\n",
    "\n",
    "![WRKY45 motif](http://neomorph.salk.edu/dap_web/pages/dap_data_v4/motifs/WRKY_tnt/WRKY18_col_a/meme_out/logo_rc1.png)![WRKY45 motif](http://neomorph.salk.edu/dap_web/pages/dap_data_v4/motifs/WRKY_tnt/WRKY18_col_a/meme_out/logo1.png)\n",
    "\n",
    "#### The WRKY45 motifs (from [https://www.pnas.org/content/111/6/2367])\n",
    "![WRKY45 motif](wrky_motifs.png)"
   ]
  },
  {
   "cell_type": "code",
   "execution_count": 1,
   "metadata": {},
   "outputs": [
    {
     "data": {
      "text/plain": [
       "['WRKY18_200bp_top1000_peakseqs_labels.txt',\n",
       " 'WRKY45_50bp_top1000_peakseqs_labels.txt',\n",
       " 'WRKY18_50bp_top1000_peakseqs_labels.txt',\n",
       " 'WRKY45_200bp_top1000_peakseqs_labels.txt',\n",
       " 'WRKY45_100bp_top1000_peakseqs_labels.txt',\n",
       " 'WRKY18_50bp_all_peakseqs_labels.txt',\n",
       " 'WRKY45_50bp_all_peakseqs_labels.txt',\n",
       " 'WRKY18_100bp_top1000_peakseqs_labels.txt']"
      ]
     },
     "execution_count": 1,
     "metadata": {},
     "output_type": "execute_result"
    }
   ],
   "source": [
    "import numpy as np\n",
    "import pandas as pd\n",
    "import matplotlib.pyplot as plt\n",
    "import requests\n",
    "import os\n",
    "customdata=\"/global/projectb/scratch/mmingay/dap_learning/training/\"\n",
    "files=os.listdir(customdata)\n",
    "files"
   ]
  },
  {
   "cell_type": "markdown",
   "metadata": {},
   "source": [
    "##### We will use the file: `WRKY18_50bp_top1000_peakseqs_labels.txt`"
   ]
  },
  {
   "cell_type": "code",
   "execution_count": 2,
   "metadata": {},
   "outputs": [
    {
     "data": {
      "text/plain": [
       "'/global/projectb/scratch/mmingay/dap_learning/training/WRKY18_50bp_top1000_peakseqs_labels.txt'"
      ]
     },
     "execution_count": 2,
     "metadata": {},
     "output_type": "execute_result"
    }
   ],
   "source": [
    "datafile = customdata + files[2]\n",
    "datafile"
   ]
  },
  {
   "cell_type": "code",
   "execution_count": 33,
   "metadata": {},
   "outputs": [
    {
     "name": "stdout",
     "output_type": "stream",
     "text": [
      "shape of our input feature array:  (50, 4)\n",
      "shape of our input feature array:  (50, 4)\n",
      "number of sequences: 1996\n",
      "length of individual sequence: 50\n",
      "number of labels:  1996\n",
      "shape of training features: (1497, 50, 4)\n"
     ]
    }
   ],
   "source": [
    "import warnings; warnings.simplefilter('ignore')\n",
    "from sklearn.preprocessing import LabelEncoder, OneHotEncoder\n",
    "import pandas as pd\n",
    "import numpy as np\n",
    "df=pd.read_csv(datafile, sep=\"\\t\", header=None, names=['id', 'sequence', 'label'])\n",
    "df.head()\n",
    "\n",
    "# get labels in one_hot_encoded format\n",
    "labels = list(str(string) for string in df.label)\n",
    "one_hot_encoder = OneHotEncoder(n_values=2)\n",
    "labels = np.array(labels).reshape(-1, 1)\n",
    "input_labels = one_hot_encoder.fit_transform(labels).toarray()\n",
    "\n",
    "#get sequences and one hot encode them\n",
    "sequences = list(str(string) for string in df.sequence)\n",
    "\n",
    "# The LabelEncoder encodes a sequence of bases as a sequence of integers.\n",
    "integer_encoder = LabelEncoder()  \n",
    "# The OneHotEncoder converts an array of integers to a sparse matrix where \n",
    "# each row corresponds to one possible value of each feature.\n",
    "one_hot_encoder = OneHotEncoder(n_values=4)   \n",
    "input_features = []  \n",
    "\n",
    "for sequence in sequences:\n",
    "    try:\n",
    "        integer_encoded = integer_encoder.fit_transform(list(sequence))\n",
    "        integer_encoded = np.array(integer_encoded).reshape(-1, 1)\n",
    "        one_hot_encoded = one_hot_encoder.fit_transform(integer_encoded)\n",
    "        input_features.append(one_hot_encoded.toarray())\n",
    "    except ValueError:\n",
    "            print(sequence)\n",
    "            continue \n",
    "np.set_printoptions(threshold=40)\n",
    "input_features = np.stack(input_features)\n",
    "\n",
    "print(\"shape of our input feature array: \", input_features[0].shape)\n",
    "print(\"shape of our input feature array: \", np.array(input_features[0]).shape)\n",
    "print(\"number of sequences: \" + str(len(sequences)))\n",
    "print(\"length of individual sequence: \" + str(len(sequences[100])))\n",
    "print(\"number of labels: \", len(df.label))\n",
    "\n",
    "#Now seperate training (0.75) and testing (0.25) data\n",
    "from sklearn.model_selection import train_test_split\n",
    "\n",
    "train_features, test_features, train_labels, test_labels = train_test_split(\n",
    "    input_features, input_labels, test_size=0.25, random_state=42)\n",
    "\n",
    "print(\"shape of training features:\", train_features.shape)"
   ]
  },
  {
   "cell_type": "markdown",
   "metadata": {},
   "source": [
    "## Now we will create a Convolutional Neural Network architecture with the following layers:\n",
    "\n",
    "1. *Conv1D*: This is our 1-dimensional convolutional layer. It scans our input using a defined window (kernel size) and extracts abstract features from the input (1 feature per filter). We will set it to have a kernel size of 12 (12 base scanning window) and 32 filters (or features).\n",
    "\n",
    "2. *MaxPooling1D*: This is our pooling function which allows for **non-linear downsampling** of our features. Since the pool size is 4 This is useful for creating a more robust model that is less sensitive to absolute positioning. It pools similar features/filters and extracts the most useful ones.\n",
    "\n",
    "3. *Flatten*: This layer flattens the output of the *MaxPooling1D* into a single array combining the results of the convolution and pooling layers across all 32 filters.\n",
    "\n",
    "4. *Dense (16)*: This first Dense tensor creates a layer that compresses the representation of the flattened layer, resulting in smaller layer with 16 tensors.\n",
    "\n",
    "5. *Dense (2)*: This layer converges the 16 tensors from the previous layer into the output layer that consists of the two possible response values (0 or 1)."
   ]
  },
  {
   "cell_type": "code",
   "execution_count": 34,
   "metadata": {},
   "outputs": [
    {
     "name": "stdout",
     "output_type": "stream",
     "text": [
      "_________________________________________________________________\n",
      "Layer (type)                 Output Shape              Param #   \n",
      "=================================================================\n",
      "conv1d_6 (Conv1D)            (None, 39, 32)            1568      \n",
      "_________________________________________________________________\n",
      "max_pooling1d_6 (MaxPooling1 (None, 17, 32)            0         \n",
      "_________________________________________________________________\n",
      "flatten_6 (Flatten)          (None, 544)               0         \n",
      "_________________________________________________________________\n",
      "dense_12 (Dense)             (None, 16)                8720      \n",
      "_________________________________________________________________\n",
      "dense_13 (Dense)             (None, 2)                 34        \n",
      "=================================================================\n",
      "Total params: 10,322\n",
      "Trainable params: 10,322\n",
      "Non-trainable params: 0\n",
      "_________________________________________________________________\n"
     ]
    }
   ],
   "source": [
    "import warnings; warnings.simplefilter('ignore')\n",
    "from tensorflow.keras.layers import Conv1D, Dense, MaxPooling1D, Flatten, Conv2D, MaxPooling2D\n",
    "from tensorflow.keras.models import Sequential\n",
    "from tensorflow.keras.backend import clear_session\n",
    "\n",
    "model = Sequential()\n",
    "model.add(Conv1D(filters=32, kernel_size=12, \n",
    "                 input_shape=(train_features.shape[1], 4)))\n",
    "\n",
    "# Could modify the pool size....how many subsequent bases usually seen in motif?\n",
    "# Why aren't we using stride with stride = 1?\n",
    "\n",
    "#model.add(MaxPooling1D(pool_size=4))\n",
    "model.add(MaxPooling1D(pool_size=6, strides=2))\n",
    "model.add(Flatten())\n",
    "model.add(Dense(16, activation='relu'))\n",
    "model.add(Dense(2, activation='softmax'))\n",
    "\n",
    "model.compile(loss='binary_crossentropy', optimizer='adam', \n",
    "              metrics=['binary_accuracy'])\n",
    "\n",
    "model.summary()"
   ]
  },
  {
   "cell_type": "markdown",
   "metadata": {},
   "source": [
    "### Plot the loss of our model"
   ]
  },
  {
   "cell_type": "code",
   "execution_count": 27,
   "metadata": {},
   "outputs": [
    {
     "data": {
      "image/png": "[encoded data removed]",
      "text/plain": [
       "<Figure size 432x288 with 1 Axes>"
      ]
     },
     "metadata": {},
     "output_type": "display_data"
    }
   ],
   "source": [
    "import matplotlib.pyplot as plt\n",
    "history = model.fit(train_features, train_labels, epochs=50, verbose=0, validation_split=0.25)\n",
    "plt.figure()\n",
    "plt.plot(history.history['loss'])\n",
    "plt.plot(history.history['val_loss'])\n",
    "plt.title('model loss')\n",
    "plt.ylabel('loss')\n",
    "plt.xlabel('epoch')\n",
    "plt.legend(['train', 'validation'])\n",
    "plt.show()"
   ]
  },
  {
   "cell_type": "markdown",
   "metadata": {},
   "source": [
    "### Plot the accuracy of our model"
   ]
  },
  {
   "cell_type": "code",
   "execution_count": 36,
   "metadata": {},
   "outputs": [
    {
     "data": {
      "image/png": "[encoded data removed]",
      "text/plain": [
       "<Figure size 432x288 with 1 Axes>"
      ]
     },
     "metadata": {},
     "output_type": "display_data"
    }
   ],
   "source": [
    "plt.figure()\n",
    "plt.plot(history.history['binary_accuracy'])\n",
    "plt.plot(history.history['val_binary_accuracy'])\n",
    "plt.title('model accuracy')\n",
    "plt.ylabel('accuracy')\n",
    "plt.xlabel('epoch')\n",
    "plt.legend(['train', 'validation'])\n",
    "plt.show()"
   ]
  },
  {
   "cell_type": "markdown",
   "metadata": {},
   "source": [
    "### Generate a confusion matrix to examine the predictions"
   ]
  },
  {
   "cell_type": "code",
   "execution_count": 29,
   "metadata": {},
   "outputs": [
    {
     "name": "stdout",
     "output_type": "stream",
     "text": [
      "Confusion matrix:\n",
      " [[243   6]\n",
      " [ 10 240]]\n"
     ]
    },
    {
     "data": {
      "image/png": "[encoded data removed]",
      "text/plain": [
       "<Figure size 432x288 with 2 Axes>"
      ]
     },
     "metadata": {},
     "output_type": "display_data"
    }
   ],
   "source": [
    "from sklearn.metrics import confusion_matrix\n",
    "import itertools\n",
    "\n",
    "predicted_labels = model.predict(np.stack(test_features))\n",
    "cm = confusion_matrix(np.argmax(test_labels, axis=1), \n",
    "                      np.argmax(predicted_labels, axis=1))\n",
    "                      \n",
    "print('Confusion matrix:\\n',cm)\n",
    "\n",
    "cm = cm.astype('float') / cm.sum(axis = 1)[:, np.newaxis]\n",
    "\n",
    "plt.imshow(cm, cmap=plt.cm.Blues)\n",
    "plt.title('Normalized confusion matrix')\n",
    "plt.colorbar()\n",
    "\n",
    "plt.xlabel('True label')\n",
    "plt.ylabel('Predicted label')\n",
    "plt.xticks([0, 1]); plt.yticks([0, 1])\n",
    "plt.grid('off')\n",
    "for i, j in itertools.product(range(cm.shape[0]), range(cm.shape[1])):\n",
    "    plt.text(j, i, format(cm[i, j], '.2f'),\n",
    "             horizontalalignment='center',\n",
    "             color='white' if cm[i, j] > 0.5 else 'black')"
   ]
  },
  {
   "cell_type": "code",
   "execution_count": null,
   "metadata": {},
   "outputs": [],
   "source": []
  },
  {
   "cell_type": "code",
   "execution_count": 30,
   "metadata": {},
   "outputs": [],
   "source": [
    "import tensorflow.keras.backend as K\n",
    "\n",
    "def compute_salient_bases(model, x):\n",
    "    input_tensors = [model.input]\n",
    "    gradients = model.optimizer.get_gradients(model.output[0][1], model.input)\n",
    "    compute_gradients = K.function(inputs = input_tensors, outputs = gradients)\n",
    "    x_value = np.expand_dims(x, axis=0)\n",
    "    gradients = compute_gradients([x_value])[0][0]\n",
    "    sal = np.clip(np.sum(np.multiply(gradients,x), axis=1),a_min=0, a_max=None)\n",
    "    return sal"
   ]
  },
  {
   "cell_type": "code",
   "execution_count": 32,
   "metadata": {},
   "outputs": [
    {
     "data": {
      "image/png": "[encoded data removed]",
      "text/plain": [
       "<Figure size 1152x360 with 1 Axes>"
      ]
     },
     "metadata": {},
     "output_type": "display_data"
    }
   ],
   "source": [
    "sequence_index = 1995\n",
    "# You can change this to compute the gradient for a different example. But if so, change the coloring below as well.\n",
    "sal = compute_salient_bases(model, input_features[sequence_index])\n",
    "\n",
    "plt.figure(figsize=[16,5])\n",
    "barlist = plt.bar(np.arange(len(sal)), sal, color='g')\n",
    "plt.xlabel('Bases')\n",
    "plt.ylabel('Magnitude of saliency values')\n",
    "plt.xticks(np.arange(len(sal)), list(sequences[sequence_index]));\n",
    "plt.title('Saliency map for bases in one of the positive sequences'\n",
    "          ' (green indicates the actual bases in motif)');"
   ]
  },
  {
   "cell_type": "code",
   "execution_count": null,
   "metadata": {},
   "outputs": [],
   "source": []
  },
  {
   "cell_type": "markdown",
   "metadata": {},
   "source": [
    "#### The WRKY45 motif (from DAP-seq site) and it's reverse complement\n",
    "\n",
    "![WRKY45 motif](http://neomorph.salk.edu/dap_web/pages/dap_data_v4/motifs/WRKY_tnt/WRKY45_col_a/meme_out/logo1.png) ![WRKY45 motif](http://neomorph.salk.edu/dap_web/pages/dap_data_v4/motifs/WRKY_tnt/WRKY45_col_a/meme_out/logo_rc1.png)\n",
    "\n",
    "#### The WRKY18 motif (from DAP-seq site) and it's reverse complement\n",
    "\n",
    "\n",
    "![WRKY45 motif](http://neomorph.salk.edu/dap_web/pages/dap_data_v4/motifs/WRKY_tnt/WRKY18_col_a/meme_out/logo_rc1.png) ![WRKY45 motif](http://neomorph.salk.edu/dap_web/pages/dap_data_v4/motifs/WRKY_tnt/WRKY18_col_a/meme_out/logo1.png)\n",
    "\n",
    "#### The WRKY45 motifs (from [https://www.pnas.org/content/111/6/2367])\n",
    "![WRKY45 motif](wrky_motifs.png)"
   ]
  },
  {
   "cell_type": "code",
   "execution_count": null,
   "metadata": {},
   "outputs": [],
   "source": [
    "sequence_index = 400  # You can change this to compute the gradient for a different example. But if so, change the coloring below as well.\n",
    "sal = compute_salient_bases(model, input_features[sequence_index])\n",
    "\n",
    "plt.figure(figsize=[16,5])\n",
    "barlist = plt.bar(np.arange(len(sal)), sal, color='r')\n",
    "plt.xlabel('Bases')\n",
    "plt.ylabel('Magnitude of saliency values')\n",
    "plt.xticks(np.arange(len(sal)), list(sequences[sequence_index]));\n",
    "plt.title('Saliency map for bases in one of the negative sequences'\n",
    "          ' (green indicates the actual bases in motif)');"
   ]
  },
  {
   "cell_type": "markdown",
   "metadata": {},
   "source": [
    "### What is in the model?"
   ]
  },
  {
   "cell_type": "code",
   "execution_count": null,
   "metadata": {},
   "outputs": [],
   "source": [
    "model.output_shape"
   ]
  },
  {
   "cell_type": "code",
   "execution_count": null,
   "metadata": {},
   "outputs": [],
   "source": [
    "from keras.utils import plot_model\n",
    "plot_model(model, to_file='model.svg')"
   ]
  },
  {
   "cell_type": "markdown",
   "metadata": {},
   "source": [
    "![model.svb](model.svg)"
   ]
  },
  {
   "cell_type": "markdown",
   "metadata": {},
   "source": [
    "#### Looks like the model is just putting out either [1,0] or [0,1] for positive and negative labels, resp."
   ]
  },
  {
   "cell_type": "code",
   "execution_count": null,
   "metadata": {},
   "outputs": [],
   "source": [
    "model.get_weights()[1]"
   ]
  },
  {
   "cell_type": "code",
   "execution_count": null,
   "metadata": {},
   "outputs": [],
   "source": [
    "model.get_weights()[1].shape"
   ]
  },
  {
   "cell_type": "code",
   "execution_count": null,
   "metadata": {},
   "outputs": [],
   "source": [
    "print(\"there are \" + str(len(model.get_weights()[1])) + \" weights....\")"
   ]
  },
  {
   "cell_type": "markdown",
   "metadata": {},
   "source": [
    "#### Looks like we have a weight for each of the filters from the first Conv1D layer"
   ]
  },
  {
   "cell_type": "code",
   "execution_count": null,
   "metadata": {},
   "outputs": [],
   "source": []
  },
  {
   "cell_type": "code",
   "execution_count": null,
   "metadata": {},
   "outputs": [],
   "source": [
    "model.get_config()"
   ]
  },
  {
   "cell_type": "code",
   "execution_count": null,
   "metadata": {},
   "outputs": [],
   "source": []
  },
  {
   "cell_type": "code",
   "execution_count": null,
   "metadata": {},
   "outputs": [],
   "source": [
    "model.summary()"
   ]
  },
  {
   "cell_type": "code",
   "execution_count": null,
   "metadata": {},
   "outputs": [],
   "source": [
    "x=input_features[1700]\n",
    "x[:25]\n",
    "x_value = np.expand_dims(x, axis=0)\n",
    "x_value"
   ]
  },
  {
   "cell_type": "code",
   "execution_count": null,
   "metadata": {},
   "outputs": [],
   "source": [
    "input_tensors = [model.input]\n",
    "gradients = model.optimizer.get_gradients(model.output[0][1], model.input)\n",
    "compute_gradients = K.function(inputs = input_tensors, outputs = gradients)\n",
    "x=input_features[1650]\n",
    "x_value = np.expand_dims(x, axisa0)\n",
    "gradients = compute_gradients([x_value])[0][0]\n",
    "gradients"
   ]
  },
  {
   "cell_type": "code",
   "execution_count": null,
   "metadata": {},
   "outputs": [],
   "source": [
    "x[:5]"
   ]
  },
  {
   "cell_type": "code",
   "execution_count": null,
   "metadata": {},
   "outputs": [],
   "source": [
    "np.clip(np.sum(np.multiply(gradients,x), axis=1),a_min=0, a_max=None)"
   ]
  },
  {
   "cell_type": "code",
   "execution_count": null,
   "metadata": {},
   "outputs": [],
   "source": [
    "def compute_salient_bases(model, x):\n",
    "    input_tensors = [model.input]\n",
    "    gradients = model.optimizer.get_gradients(model.output[0][1], model.input)\n",
    "    compute_gradients = K.function(inputs = input_tensors, outputs = gradients)\n",
    "    x_value = np.expand_dims(x, axis=0)\n",
    "    gradients = compute_gradients([x_value])[0][0]\n",
    "    sal = np.clip(np.sum(np.multiply(gradients,x), axis=1),a_min=0, a_max=None)\n",
    "    return sal"
   ]
  },
  {
   "cell_type": "code",
   "execution_count": null,
   "metadata": {},
   "outputs": [],
   "source": []
  },
  {
   "cell_type": "code",
   "execution_count": null,
   "metadata": {},
   "outputs": [],
   "source": []
  },
  {
   "cell_type": "code",
   "execution_count": null,
   "metadata": {},
   "outputs": [],
   "source": []
  },
  {
   "cell_type": "code",
   "execution_count": null,
   "metadata": {},
   "outputs": [],
   "source": []
  }
 ],
 "metadata": {
  "kernelspec": {
   "display_name": "Python [conda env:.conda-jupyter_env]",
   "language": "python",
   "name": "conda-env-.conda-jupyter_env-py"
  },
  "language_info": {
   "codemirror_mode": {
    "name": "ipython",
    "version": 3
   },
   "file_extension": ".py",
   "mimetype": "text/x-python",
   "name": "python",
   "nbconvert_exporter": "python",
   "pygments_lexer": "ipython3",
   "version": "3.6.4"
  }
 },
 "nbformat": 4,
 "nbformat_minor": 4
}
